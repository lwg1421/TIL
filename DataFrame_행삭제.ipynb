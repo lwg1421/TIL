{
 "cells": [
  {
   "cell_type": "markdown",
   "metadata": {},
   "source": [
    "# 데이터프레임\n",
    "## 데이터프레임 합치기 (append)\n",
    "## 결측치 확인 삭제 (isnull) (dropna)\n",
    "## 중복값 확인 삭제 (duplicated) (drop_duplicates)"
   ]
  },
  {
   "cell_type": "code",
   "execution_count": 1,
   "metadata": {},
   "outputs": [],
   "source": [
    "import pandas as pd"
   ]
  },
  {
   "cell_type": "code",
   "execution_count": 2,
   "metadata": {},
   "outputs": [],
   "source": [
    "df1 = pd.read_excel(\"D:/multi_1/preprocessing/bath0001.xlsx\")\n",
    "df2 = pd.read_excel(\"D:/multi_1/preprocessing/bath1003.xlsx\")"
   ]
  },
  {
   "cell_type": "code",
   "execution_count": 3,
   "metadata": {},
   "outputs": [
    {
     "data": {
      "text/html": [
       "<div>\n",
       "<style scoped>\n",
       "    .dataframe tbody tr th:only-of-type {\n",
       "        vertical-align: middle;\n",
       "    }\n",
       "\n",
       "    .dataframe tbody tr th {\n",
       "        vertical-align: top;\n",
       "    }\n",
       "\n",
       "    .dataframe thead th {\n",
       "        text-align: right;\n",
       "    }\n",
       "</style>\n",
       "<table border=\"1\" class=\"dataframe\">\n",
       "  <thead>\n",
       "    <tr style=\"text-align: right;\">\n",
       "      <th></th>\n",
       "      <th>소재지도로명주소</th>\n",
       "      <th>Latitude</th>\n",
       "      <th>Longitude</th>\n",
       "    </tr>\n",
       "  </thead>\n",
       "  <tbody>\n",
       "    <tr>\n",
       "      <th>0</th>\n",
       "      <td>서울특별시 종로구 청운동 7-2</td>\n",
       "      <td>37.591132</td>\n",
       "      <td>126.966135</td>\n",
       "    </tr>\n",
       "    <tr>\n",
       "      <th>1</th>\n",
       "      <td>서울특별시 종로구 청운동 7-3</td>\n",
       "      <td>37.591001</td>\n",
       "      <td>126.966224</td>\n",
       "    </tr>\n",
       "  </tbody>\n",
       "</table>\n",
       "</div>"
      ],
      "text/plain": [
       "            소재지도로명주소   Latitude   Longitude\n",
       "0  서울특별시 종로구 청운동 7-2  37.591132  126.966135\n",
       "1  서울특별시 종로구 청운동 7-3  37.591001  126.966224"
      ]
     },
     "execution_count": 3,
     "metadata": {},
     "output_type": "execute_result"
    }
   ],
   "source": [
    "df1.head(2)"
   ]
  },
  {
   "cell_type": "code",
   "execution_count": 5,
   "metadata": {},
   "outputs": [
    {
     "data": {
      "text/html": [
       "<div>\n",
       "<style scoped>\n",
       "    .dataframe tbody tr th:only-of-type {\n",
       "        vertical-align: middle;\n",
       "    }\n",
       "\n",
       "    .dataframe tbody tr th {\n",
       "        vertical-align: top;\n",
       "    }\n",
       "\n",
       "    .dataframe thead th {\n",
       "        text-align: right;\n",
       "    }\n",
       "</style>\n",
       "<table border=\"1\" class=\"dataframe\">\n",
       "  <thead>\n",
       "    <tr style=\"text-align: right;\">\n",
       "      <th></th>\n",
       "      <th>번호</th>\n",
       "      <th>구분</th>\n",
       "      <th>화장실명</th>\n",
       "      <th>소재지도로명주소</th>\n",
       "      <th>Latitude</th>\n",
       "      <th>Longitude</th>\n",
       "      <th>소재지지번주소</th>\n",
       "      <th>남녀공용화장실여부</th>\n",
       "      <th>남성용-대변기수</th>\n",
       "      <th>남성용-소변기수</th>\n",
       "      <th>...</th>\n",
       "      <th>화장실소유구분</th>\n",
       "      <th>화장실설치장소유형</th>\n",
       "      <th>오물처리방식</th>\n",
       "      <th>비상벨설치여부</th>\n",
       "      <th>비상벨설치장소</th>\n",
       "      <th>화장실입구CCTV설치유무</th>\n",
       "      <th>기저귀교환대유무</th>\n",
       "      <th>기저귀교환대장소</th>\n",
       "      <th>리모델링연월</th>\n",
       "      <th>데이터기준일자</th>\n",
       "    </tr>\n",
       "  </thead>\n",
       "  <tbody>\n",
       "    <tr>\n",
       "      <th>0</th>\n",
       "      <td>1003</td>\n",
       "      <td>공중화장실</td>\n",
       "      <td>영등포로타리</td>\n",
       "      <td>서울특별시 영등포구 영중로 지하 20 (영등포동3가, 영등포로터리지하도상가)</td>\n",
       "      <td>37.517431</td>\n",
       "      <td>126.907252</td>\n",
       "      <td>NaN</td>\n",
       "      <td>N</td>\n",
       "      <td>2</td>\n",
       "      <td>5</td>\n",
       "      <td>...</td>\n",
       "      <td>지방자치단체</td>\n",
       "      <td>공공용시설</td>\n",
       "      <td>수세식</td>\n",
       "      <td>Y</td>\n",
       "      <td>남자화장실+여자화장실</td>\n",
       "      <td>N</td>\n",
       "      <td>Y</td>\n",
       "      <td>남자화장실+여자화장실</td>\n",
       "      <td>NaN</td>\n",
       "      <td>2020-08-31</td>\n",
       "    </tr>\n",
       "    <tr>\n",
       "      <th>1</th>\n",
       "      <td>1004</td>\n",
       "      <td>공중화장실</td>\n",
       "      <td>영등포역 지하 화장실</td>\n",
       "      <td>서울특별시 영등포구 영중로 지하 20 (영등포동3가, 영등포로터리지하도상가)</td>\n",
       "      <td>37.517431</td>\n",
       "      <td>126.907252</td>\n",
       "      <td>NaN</td>\n",
       "      <td>N</td>\n",
       "      <td>3</td>\n",
       "      <td>5</td>\n",
       "      <td>...</td>\n",
       "      <td>민간</td>\n",
       "      <td>공공용시설</td>\n",
       "      <td>수세식</td>\n",
       "      <td>N</td>\n",
       "      <td>없음</td>\n",
       "      <td>N</td>\n",
       "      <td>N</td>\n",
       "      <td>없음</td>\n",
       "      <td>NaN</td>\n",
       "      <td>2020-08-31</td>\n",
       "    </tr>\n",
       "  </tbody>\n",
       "</table>\n",
       "<p>2 rows × 33 columns</p>\n",
       "</div>"
      ],
      "text/plain": [
       "     번호     구분         화장실명                                    소재지도로명주소  \\\n",
       "0  1003  공중화장실       영등포로타리  서울특별시 영등포구 영중로 지하 20 (영등포동3가, 영등포로터리지하도상가)   \n",
       "1  1004  공중화장실  영등포역 지하 화장실  서울특별시 영등포구 영중로 지하 20 (영등포동3가, 영등포로터리지하도상가)   \n",
       "\n",
       "    Latitude   Longitude 소재지지번주소 남녀공용화장실여부  남성용-대변기수  남성용-소변기수  ...  화장실소유구분  \\\n",
       "0  37.517431  126.907252     NaN         N         2         5  ...   지방자치단체   \n",
       "1  37.517431  126.907252     NaN         N         3         5  ...       민간   \n",
       "\n",
       "   화장실설치장소유형  오물처리방식  비상벨설치여부      비상벨설치장소  화장실입구CCTV설치유무  기저귀교환대유무  \\\n",
       "0      공공용시설     수세식        Y  남자화장실+여자화장실              N         Y   \n",
       "1      공공용시설     수세식        N           없음              N         N   \n",
       "\n",
       "      기저귀교환대장소 리모델링연월    데이터기준일자  \n",
       "0  남자화장실+여자화장실    NaN 2020-08-31  \n",
       "1           없음    NaN 2020-08-31  \n",
       "\n",
       "[2 rows x 33 columns]"
      ]
     },
     "execution_count": 5,
     "metadata": {},
     "output_type": "execute_result"
    }
   ],
   "source": [
    "df2.head(2)"
   ]
  },
  {
   "cell_type": "code",
   "execution_count": 7,
   "metadata": {},
   "outputs": [],
   "source": [
    "# df2에서 소재지도로명주소, Latitude, Longitude열만 남김\n",
    "df2 = df2[[\"소재지도로명주소\",\"Latitude\",\"Longitude\"]]"
   ]
  },
  {
   "cell_type": "code",
   "execution_count": 9,
   "metadata": {},
   "outputs": [
    {
     "data": {
      "text/html": [
       "<div>\n",
       "<style scoped>\n",
       "    .dataframe tbody tr th:only-of-type {\n",
       "        vertical-align: middle;\n",
       "    }\n",
       "\n",
       "    .dataframe tbody tr th {\n",
       "        vertical-align: top;\n",
       "    }\n",
       "\n",
       "    .dataframe thead th {\n",
       "        text-align: right;\n",
       "    }\n",
       "</style>\n",
       "<table border=\"1\" class=\"dataframe\">\n",
       "  <thead>\n",
       "    <tr style=\"text-align: right;\">\n",
       "      <th></th>\n",
       "      <th>소재지도로명주소</th>\n",
       "      <th>Latitude</th>\n",
       "      <th>Longitude</th>\n",
       "    </tr>\n",
       "  </thead>\n",
       "  <tbody>\n",
       "    <tr>\n",
       "      <th>0</th>\n",
       "      <td>서울특별시 영등포구 영중로 지하 20 (영등포동3가, 영등포로터리지하도상가)</td>\n",
       "      <td>37.517431</td>\n",
       "      <td>126.907252</td>\n",
       "    </tr>\n",
       "    <tr>\n",
       "      <th>1</th>\n",
       "      <td>서울특별시 영등포구 영중로 지하 20 (영등포동3가, 영등포로터리지하도상가)</td>\n",
       "      <td>37.517431</td>\n",
       "      <td>126.907252</td>\n",
       "    </tr>\n",
       "  </tbody>\n",
       "</table>\n",
       "</div>"
      ],
      "text/plain": [
       "                                     소재지도로명주소   Latitude   Longitude\n",
       "0  서울특별시 영등포구 영중로 지하 20 (영등포동3가, 영등포로터리지하도상가)  37.517431  126.907252\n",
       "1  서울특별시 영등포구 영중로 지하 20 (영등포동3가, 영등포로터리지하도상가)  37.517431  126.907252"
      ]
     },
     "execution_count": 9,
     "metadata": {},
     "output_type": "execute_result"
    }
   ],
   "source": [
    "df2.head(2)"
   ]
  },
  {
   "cell_type": "code",
   "execution_count": 13,
   "metadata": {},
   "outputs": [
    {
     "data": {
      "text/html": [
       "<div>\n",
       "<style scoped>\n",
       "    .dataframe tbody tr th:only-of-type {\n",
       "        vertical-align: middle;\n",
       "    }\n",
       "\n",
       "    .dataframe tbody tr th {\n",
       "        vertical-align: top;\n",
       "    }\n",
       "\n",
       "    .dataframe thead th {\n",
       "        text-align: right;\n",
       "    }\n",
       "</style>\n",
       "<table border=\"1\" class=\"dataframe\">\n",
       "  <thead>\n",
       "    <tr style=\"text-align: right;\">\n",
       "      <th></th>\n",
       "      <th>소재지도로명주소</th>\n",
       "      <th>Latitude</th>\n",
       "      <th>Longitude</th>\n",
       "    </tr>\n",
       "  </thead>\n",
       "  <tbody>\n",
       "    <tr>\n",
       "      <th>0</th>\n",
       "      <td>서울특별시 종로구 청운동 7-2</td>\n",
       "      <td>37.591132</td>\n",
       "      <td>126.966135</td>\n",
       "    </tr>\n",
       "    <tr>\n",
       "      <th>1</th>\n",
       "      <td>서울특별시 종로구 청운동 7-3</td>\n",
       "      <td>37.591001</td>\n",
       "      <td>126.966224</td>\n",
       "    </tr>\n",
       "    <tr>\n",
       "      <th>2</th>\n",
       "      <td>서울특별시 종로구 청운동 산 1-1</td>\n",
       "      <td>37.590606</td>\n",
       "      <td>126.970924</td>\n",
       "    </tr>\n",
       "    <tr>\n",
       "      <th>3</th>\n",
       "      <td>서울특별시 종로구 삼청동 산2-1</td>\n",
       "      <td>37.589370</td>\n",
       "      <td>126.980313</td>\n",
       "    </tr>\n",
       "    <tr>\n",
       "      <th>4</th>\n",
       "      <td>서울특별시 종로구 삼청동 산2-1</td>\n",
       "      <td>37.589370</td>\n",
       "      <td>126.980313</td>\n",
       "    </tr>\n",
       "    <tr>\n",
       "      <th>...</th>\n",
       "      <td>...</td>\n",
       "      <td>...</td>\n",
       "      <td>...</td>\n",
       "    </tr>\n",
       "    <tr>\n",
       "      <th>1959</th>\n",
       "      <td>서울특별시 용산구 이태원로 145 (이태원동, 동호프라자.외환은행)</td>\n",
       "      <td>37.534539</td>\n",
       "      <td>126.990053</td>\n",
       "    </tr>\n",
       "    <tr>\n",
       "      <th>1960</th>\n",
       "      <td>서울특별시 용산구 이태원로 142-1 (이태원동)</td>\n",
       "      <td>37.536325</td>\n",
       "      <td>126.992602</td>\n",
       "    </tr>\n",
       "    <tr>\n",
       "      <th>1961</th>\n",
       "      <td>서울특별시 용산구 이태원동 287-1</td>\n",
       "      <td>37.538131</td>\n",
       "      <td>126.989385</td>\n",
       "    </tr>\n",
       "    <tr>\n",
       "      <th>1962</th>\n",
       "      <td>서울특별시 용산구 이촌로75길 19</td>\n",
       "      <td>37.520449</td>\n",
       "      <td>126.974542</td>\n",
       "    </tr>\n",
       "    <tr>\n",
       "      <th>1963</th>\n",
       "      <td>서울특별시 용산구 이촌로71길 42 (이촌동, 중앙선 이촌역)</td>\n",
       "      <td>37.522190</td>\n",
       "      <td>126.973583</td>\n",
       "    </tr>\n",
       "  </tbody>\n",
       "</table>\n",
       "<p>1964 rows × 3 columns</p>\n",
       "</div>"
      ],
      "text/plain": [
       "                                   소재지도로명주소   Latitude   Longitude\n",
       "0                         서울특별시 종로구 청운동 7-2  37.591132  126.966135\n",
       "1                         서울특별시 종로구 청운동 7-3  37.591001  126.966224\n",
       "2                       서울특별시 종로구 청운동 산 1-1  37.590606  126.970924\n",
       "3                        서울특별시 종로구 삼청동 산2-1  37.589370  126.980313\n",
       "4                        서울특별시 종로구 삼청동 산2-1  37.589370  126.980313\n",
       "...                                     ...        ...         ...\n",
       "1959  서울특별시 용산구 이태원로 145 (이태원동, 동호프라자.외환은행)  37.534539  126.990053\n",
       "1960            서울특별시 용산구 이태원로 142-1 (이태원동)  37.536325  126.992602\n",
       "1961                   서울특별시 용산구 이태원동 287-1  37.538131  126.989385\n",
       "1962                    서울특별시 용산구 이촌로75길 19  37.520449  126.974542\n",
       "1963     서울특별시 용산구 이촌로71길 42 (이촌동, 중앙선 이촌역)  37.522190  126.973583\n",
       "\n",
       "[1964 rows x 3 columns]"
      ]
     },
     "execution_count": 13,
     "metadata": {},
     "output_type": "execute_result"
    }
   ],
   "source": [
    "# 데이터프레임 합치기\n",
    "data = df1.append(df2,ignore_index = True)\n",
    "# ignore_index = True를 하지 않으면 각각의 데이터프레임이 갖고있던 인덱스를 그대로 가져오게됨.\n",
    "\n",
    "data"
   ]
  },
  {
   "cell_type": "code",
   "execution_count": 15,
   "metadata": {},
   "outputs": [
    {
     "data": {
      "text/plain": [
       "소재지도로명주소     43\n",
       "Latitude     68\n",
       "Longitude    68\n",
       "dtype: int64"
      ]
     },
     "execution_count": 15,
     "metadata": {},
     "output_type": "execute_result"
    }
   ],
   "source": [
    "# 결측값 확인\n",
    "data.isnull().sum()"
   ]
  },
  {
   "cell_type": "code",
   "execution_count": 17,
   "metadata": {},
   "outputs": [],
   "source": [
    "# 결측값 삭제\n",
    "data.dropna(inplace = True)"
   ]
  },
  {
   "cell_type": "code",
   "execution_count": 20,
   "metadata": {},
   "outputs": [
    {
     "data": {
      "text/plain": [
       "소재지도로명주소     0\n",
       "Latitude     0\n",
       "Longitude    0\n",
       "dtype: int64"
      ]
     },
     "execution_count": 20,
     "metadata": {},
     "output_type": "execute_result"
    }
   ],
   "source": [
    "# 결측치가 삭제되었음\n",
    "data.isnull().sum()"
   ]
  },
  {
   "cell_type": "code",
   "execution_count": 23,
   "metadata": {},
   "outputs": [
    {
     "data": {
      "text/plain": [
       "269"
      ]
     },
     "execution_count": 23,
     "metadata": {},
     "output_type": "execute_result"
    }
   ],
   "source": [
    "# 중복 데이터 개수 확인\n",
    "data.duplicated().sum()"
   ]
  },
  {
   "cell_type": "code",
   "execution_count": 25,
   "metadata": {},
   "outputs": [],
   "source": [
    "# 중복 데이터 삭제\n",
    "data2 = data.drop_duplicates()"
   ]
  },
  {
   "cell_type": "code",
   "execution_count": 28,
   "metadata": {},
   "outputs": [
    {
     "name": "stdout",
     "output_type": "stream",
     "text": [
      "(1896, 3)\n",
      "(1627, 3)\n"
     ]
    }
   ],
   "source": [
    "print(data.shape)\n",
    "print(data2.shape)"
   ]
  },
  {
   "cell_type": "code",
   "execution_count": null,
   "metadata": {},
   "outputs": [],
   "source": []
  }
 ],
 "metadata": {
  "kernelspec": {
   "display_name": "Python 3.9.1 64-bit (system)",
   "language": "python",
   "name": "python3"
  },
  "language_info": {
   "codemirror_mode": {
    "name": "ipython",
    "version": 3
   },
   "file_extension": ".py",
   "mimetype": "text/x-python",
   "name": "python",
   "nbconvert_exporter": "python",
   "pygments_lexer": "ipython3",
   "version": "3.9.1"
  },
  "vscode": {
   "interpreter": {
    "hash": "609046824df3f960dd93ec503b04ac305f792955563c96f30be6bcf2c79ae017"
   }
  }
 },
 "nbformat": 4,
 "nbformat_minor": 4
}
