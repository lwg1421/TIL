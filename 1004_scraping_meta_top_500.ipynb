{
 "cells": [
  {
   "cell_type": "markdown",
   "metadata": {},
   "source": [
    "# #스크래핑\n",
    "## TOP 500 게임 정보 스크래핑하기\n",
    "\n",
    "#### - 메타크리틱 홈페이지\n",
    "#### - 플랫폼 : PC게임,  날짜 : ALL TIME 으로 설정\n",
    "#### - 상위 500개 게임의 이름, 줄거리, 플랫폼, 출시일자 스크래핑\n",
    "#### - 데이터프레임 생성 후 CSV 파일 저장"
   ]
  },
  {
   "cell_type": "code",
   "execution_count": 1,
   "metadata": {},
   "outputs": [
    {
     "name": "stderr",
     "output_type": "stream",
     "text": [
      "D:\\anaconda\\lib\\site-packages\\requests\\__init__.py:89: RequestsDependencyWarning: urllib3 (1.26.12) or chardet (3.0.4) doesn't match a supported version!\n",
      "  warnings.warn(\"urllib3 ({}) or chardet ({}) doesn't match a supported \"\n"
     ]
    }
   ],
   "source": [
    "import requests\n",
    "from bs4 import BeautifulSoup as bs"
   ]
  },
  {
   "cell_type": "code",
   "execution_count": 2,
   "metadata": {},
   "outputs": [],
   "source": [
    "title_list = []\n",
    "summary_lists = []\n",
    "info_list = []\n",
    "date_list = []\n",
    "platform_list = []\n",
    "for i in range(0,6):\n",
    "    url = \"https://www.metacritic.com/browse/games/score/userscore/all/pc/filtered?sort=desc&page=\"+str(i)\n",
    "    headers = {\n",
    "    'Accept-Encoding': 'gzip, deflate, sdch',\n",
    "    'Accept-Language': 'en-US,en;q=0.8',\n",
    "    'Upgrade-Insecure-Requests': '1',\n",
    "    'User-Agent': 'Mozilla/5.0 (X11; Linux x86_64) AppleWebKit/605.1.15 (KHTML, like Gecko) Chrome/79.0.3945.130 Safari/605.1.15',\n",
    "    'Accept': 'text/html,application/xhtml+xml,application/xml;q=0.9,image/webp,*/*;q=0.8',\n",
    "    'Cache-Control': 'max-age=0',\n",
    "    'Connection': 'keep-alive',}\n",
    "    html = requests.get(url,headers = headers,allow_redirects = False).text\n",
    "    soup = bs(html,\"lxml\")\n",
    "    \n",
    "    titles = soup.select(\"a.title h3\")\n",
    "    summaries = soup.select(\"div.summary\")\n",
    "    infos = soup.select(\"div.clamp-details span\")\n",
    "    \n",
    "\n",
    "    for title in titles:\n",
    "        title_list.append(title.get_text())\n",
    "    \n",
    "    for info in infos :\n",
    "        info_list.append(info.get_text())\n",
    "        \n",
    "    summary_list = []    \n",
    "    for summary in summaries:\n",
    "        summary_list.append(summary.get_text())\n",
    "        \n",
    "    # 개행문자 삭제\n",
    "    for a in summary_list:\n",
    "        summary_lists.append(a.strip(\"\\n\"\" \"))\n",
    "        \n",
    "\n",
    "for data in range(len(info_list)):\n",
    "    if data%3 ==2:\n",
    "        date_list.append(info_list[data])\n",
    "    if data%3 ==1:\n",
    "        platform_list.append(info_list[data].strip(\"\\n\"\" \"))    \n",
    "\n",
    "\n",
    "    "
   ]
  },
  {
   "cell_type": "code",
   "execution_count": 3,
   "metadata": {},
   "outputs": [],
   "source": [
    "import pandas as pd\n",
    "import numpy as np"
   ]
  },
  {
   "cell_type": "code",
   "execution_count": 4,
   "metadata": {},
   "outputs": [],
   "source": [
    "meta_game_rank = pd.DataFrame({\"RANK\":np.arange(1,501),\"GAME\":title_list,\"SUMMARY\":summary_lists,\"DATE\":date_list,\"PLATFORM\":platform_list})"
   ]
  },
  {
   "cell_type": "code",
   "execution_count": 5,
   "metadata": {},
   "outputs": [
    {
     "data": {
      "text/html": [
       "<div>\n",
       "<style scoped>\n",
       "    .dataframe tbody tr th:only-of-type {\n",
       "        vertical-align: middle;\n",
       "    }\n",
       "\n",
       "    .dataframe tbody tr th {\n",
       "        vertical-align: top;\n",
       "    }\n",
       "\n",
       "    .dataframe thead th {\n",
       "        text-align: right;\n",
       "    }\n",
       "</style>\n",
       "<table border=\"1\" class=\"dataframe\">\n",
       "  <thead>\n",
       "    <tr style=\"text-align: right;\">\n",
       "      <th></th>\n",
       "      <th>RANK</th>\n",
       "      <th>GAME</th>\n",
       "      <th>SUMMARY</th>\n",
       "      <th>DATE</th>\n",
       "      <th>PLATFORM</th>\n",
       "    </tr>\n",
       "  </thead>\n",
       "  <tbody>\n",
       "    <tr>\n",
       "      <th>0</th>\n",
       "      <td>1</td>\n",
       "      <td>Final Fantasy XIV: Endwalker</td>\n",
       "      <td>Endwalker is the fourth expansion pack for FIN...</td>\n",
       "      <td>December 7, 2021</td>\n",
       "      <td>PC</td>\n",
       "    </tr>\n",
       "    <tr>\n",
       "      <th>1</th>\n",
       "      <td>2</td>\n",
       "      <td>Vanquish</td>\n",
       "      <td>Directed by Shinji Mikami, VANQUISH is a sci-f...</td>\n",
       "      <td>May 25, 2017</td>\n",
       "      <td>PC</td>\n",
       "    </tr>\n",
       "    <tr>\n",
       "      <th>2</th>\n",
       "      <td>3</td>\n",
       "      <td>MADiSON</td>\n",
       "      <td>What would you do if you woke up locked in a d...</td>\n",
       "      <td>July 8, 2022</td>\n",
       "      <td>PC</td>\n",
       "    </tr>\n",
       "    <tr>\n",
       "      <th>3</th>\n",
       "      <td>4</td>\n",
       "      <td>GhostWire: Tokyo</td>\n",
       "      <td>Save a Tokyo under siege by spirits in a new a...</td>\n",
       "      <td>March 25, 2022</td>\n",
       "      <td>PC</td>\n",
       "    </tr>\n",
       "    <tr>\n",
       "      <th>4</th>\n",
       "      <td>5</td>\n",
       "      <td>Half-Life: Alyx</td>\n",
       "      <td>Half-Life: Alyx is Valve's VR return to the Ha...</td>\n",
       "      <td>March 23, 2020</td>\n",
       "      <td>PC</td>\n",
       "    </tr>\n",
       "  </tbody>\n",
       "</table>\n",
       "</div>"
      ],
      "text/plain": [
       "   RANK                          GAME  \\\n",
       "0     1  Final Fantasy XIV: Endwalker   \n",
       "1     2                      Vanquish   \n",
       "2     3                       MADiSON   \n",
       "3     4              GhostWire: Tokyo   \n",
       "4     5               Half-Life: Alyx   \n",
       "\n",
       "                                             SUMMARY              DATE  \\\n",
       "0  Endwalker is the fourth expansion pack for FIN...  December 7, 2021   \n",
       "1  Directed by Shinji Mikami, VANQUISH is a sci-f...      May 25, 2017   \n",
       "2  What would you do if you woke up locked in a d...      July 8, 2022   \n",
       "3  Save a Tokyo under siege by spirits in a new a...    March 25, 2022   \n",
       "4  Half-Life: Alyx is Valve's VR return to the Ha...    March 23, 2020   \n",
       "\n",
       "  PLATFORM  \n",
       "0       PC  \n",
       "1       PC  \n",
       "2       PC  \n",
       "3       PC  \n",
       "4       PC  "
      ]
     },
     "execution_count": 5,
     "metadata": {},
     "output_type": "execute_result"
    }
   ],
   "source": [
    "meta_game_rank.head()"
   ]
  },
  {
   "cell_type": "code",
   "execution_count": 6,
   "metadata": {},
   "outputs": [
    {
     "data": {
      "text/html": [
       "<div>\n",
       "<style scoped>\n",
       "    .dataframe tbody tr th:only-of-type {\n",
       "        vertical-align: middle;\n",
       "    }\n",
       "\n",
       "    .dataframe tbody tr th {\n",
       "        vertical-align: top;\n",
       "    }\n",
       "\n",
       "    .dataframe thead th {\n",
       "        text-align: right;\n",
       "    }\n",
       "</style>\n",
       "<table border=\"1\" class=\"dataframe\">\n",
       "  <thead>\n",
       "    <tr style=\"text-align: right;\">\n",
       "      <th></th>\n",
       "      <th>RANK</th>\n",
       "      <th>GAME</th>\n",
       "      <th>SUMMARY</th>\n",
       "      <th>DATE</th>\n",
       "      <th>PLATFORM</th>\n",
       "    </tr>\n",
       "  </thead>\n",
       "  <tbody>\n",
       "    <tr>\n",
       "      <th>495</th>\n",
       "      <td>496</td>\n",
       "      <td>Europa 1400: The Guild</td>\n",
       "      <td>It's the year 1400. Europe sees the dawn of th...</td>\n",
       "      <td>November 18, 2002</td>\n",
       "      <td>PC</td>\n",
       "    </tr>\n",
       "    <tr>\n",
       "      <th>496</th>\n",
       "      <td>497</td>\n",
       "      <td>Harry Potter and the Chamber of Secrets</td>\n",
       "      <td>Players enter fantastical free-roaming 3D envi...</td>\n",
       "      <td>November 15, 2002</td>\n",
       "      <td>PC</td>\n",
       "    </tr>\n",
       "    <tr>\n",
       "      <th>497</th>\n",
       "      <td>498</td>\n",
       "      <td>Battle Realms: Winter of the Wolf</td>\n",
       "      <td>Winter of the Wolf takes place seven years pri...</td>\n",
       "      <td>November 5, 2002</td>\n",
       "      <td>PC</td>\n",
       "    </tr>\n",
       "    <tr>\n",
       "      <th>498</th>\n",
       "      <td>499</td>\n",
       "      <td>Treasure Planet: Battle at Procyon</td>\n",
       "      <td>Take the helm of the most powerful fleet in th...</td>\n",
       "      <td>October 31, 2002</td>\n",
       "      <td>PC</td>\n",
       "    </tr>\n",
       "    <tr>\n",
       "      <th>499</th>\n",
       "      <td>500</td>\n",
       "      <td>Divine Divinity</td>\n",
       "      <td>Set in a new fantasy universe, Divine Divinity...</td>\n",
       "      <td>September 22, 2002</td>\n",
       "      <td>PC</td>\n",
       "    </tr>\n",
       "  </tbody>\n",
       "</table>\n",
       "</div>"
      ],
      "text/plain": [
       "     RANK                                     GAME  \\\n",
       "495   496                   Europa 1400: The Guild   \n",
       "496   497  Harry Potter and the Chamber of Secrets   \n",
       "497   498        Battle Realms: Winter of the Wolf   \n",
       "498   499       Treasure Planet: Battle at Procyon   \n",
       "499   500                          Divine Divinity   \n",
       "\n",
       "                                               SUMMARY                DATE  \\\n",
       "495  It's the year 1400. Europe sees the dawn of th...   November 18, 2002   \n",
       "496  Players enter fantastical free-roaming 3D envi...   November 15, 2002   \n",
       "497  Winter of the Wolf takes place seven years pri...    November 5, 2002   \n",
       "498  Take the helm of the most powerful fleet in th...    October 31, 2002   \n",
       "499  Set in a new fantasy universe, Divine Divinity...  September 22, 2002   \n",
       "\n",
       "    PLATFORM  \n",
       "495       PC  \n",
       "496       PC  \n",
       "497       PC  \n",
       "498       PC  \n",
       "499       PC  "
      ]
     },
     "execution_count": 6,
     "metadata": {},
     "output_type": "execute_result"
    }
   ],
   "source": [
    "meta_game_rank.tail()"
   ]
  },
  {
   "cell_type": "code",
   "execution_count": 8,
   "metadata": {},
   "outputs": [],
   "source": [
    "# meta_game_rank.to_csv(\"D:/scraping/Meta_Top_500.csv\",index = False)"
   ]
  },
  {
   "cell_type": "code",
   "execution_count": null,
   "metadata": {},
   "outputs": [],
   "source": []
  }
 ],
 "metadata": {
  "kernelspec": {
   "display_name": "Python 3",
   "language": "python",
   "name": "python3"
  },
  "language_info": {
   "codemirror_mode": {
    "name": "ipython",
    "version": 3
   },
   "file_extension": ".py",
   "mimetype": "text/x-python",
   "name": "python",
   "nbconvert_exporter": "python",
   "pygments_lexer": "ipython3",
   "version": "3.8.5"
  }
 },
 "nbformat": 4,
 "nbformat_minor": 4
}
