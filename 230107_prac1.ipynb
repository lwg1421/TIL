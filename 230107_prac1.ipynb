{
 "cells": [
  {
   "cell_type": "code",
   "execution_count": 33,
   "metadata": {},
   "outputs": [],
   "source": [
    "import pandas as pd"
   ]
  },
  {
   "attachments": {},
   "cell_type": "markdown",
   "metadata": {},
   "source": [
    "- gugudan 데이터프레임 생성 후 내용 담기\n",
    "- 구구단 단별로 데이터프레임에 데이터를 담아줌"
   ]
  },
  {
   "cell_type": "code",
   "execution_count": 34,
   "metadata": {},
   "outputs": [],
   "source": [
    "gugudan = pd.DataFrame()\n",
    "for i in range(1,10,1):\n",
    "    result = []\n",
    "    for j in range(1,10,1):\n",
    "        result.append(\"{0}X{1}={2}\".format(i,j,i*j))\n",
    "    gugudan[str(i)+\"단\"] = result"
   ]
  },
  {
   "attachments": {},
   "cell_type": "markdown",
   "metadata": {},
   "source": [
    "- 생성 완료된 gugudan 데이터프레임 확인"
   ]
  },
  {
   "cell_type": "code",
   "execution_count": 35,
   "metadata": {},
   "outputs": [
    {
     "data": {
      "text/html": [
       "<div>\n",
       "<style scoped>\n",
       "    .dataframe tbody tr th:only-of-type {\n",
       "        vertical-align: middle;\n",
       "    }\n",
       "\n",
       "    .dataframe tbody tr th {\n",
       "        vertical-align: top;\n",
       "    }\n",
       "\n",
       "    .dataframe thead th {\n",
       "        text-align: right;\n",
       "    }\n",
       "</style>\n",
       "<table border=\"1\" class=\"dataframe\">\n",
       "  <thead>\n",
       "    <tr style=\"text-align: right;\">\n",
       "      <th></th>\n",
       "      <th>1단</th>\n",
       "      <th>2단</th>\n",
       "      <th>3단</th>\n",
       "      <th>4단</th>\n",
       "      <th>5단</th>\n",
       "      <th>6단</th>\n",
       "      <th>7단</th>\n",
       "      <th>8단</th>\n",
       "      <th>9단</th>\n",
       "    </tr>\n",
       "  </thead>\n",
       "  <tbody>\n",
       "    <tr>\n",
       "      <th>0</th>\n",
       "      <td>1X1=1</td>\n",
       "      <td>2X1=2</td>\n",
       "      <td>3X1=3</td>\n",
       "      <td>4X1=4</td>\n",
       "      <td>5X1=5</td>\n",
       "      <td>6X1=6</td>\n",
       "      <td>7X1=7</td>\n",
       "      <td>8X1=8</td>\n",
       "      <td>9X1=9</td>\n",
       "    </tr>\n",
       "    <tr>\n",
       "      <th>1</th>\n",
       "      <td>1X2=2</td>\n",
       "      <td>2X2=4</td>\n",
       "      <td>3X2=6</td>\n",
       "      <td>4X2=8</td>\n",
       "      <td>5X2=10</td>\n",
       "      <td>6X2=12</td>\n",
       "      <td>7X2=14</td>\n",
       "      <td>8X2=16</td>\n",
       "      <td>9X2=18</td>\n",
       "    </tr>\n",
       "    <tr>\n",
       "      <th>2</th>\n",
       "      <td>1X3=3</td>\n",
       "      <td>2X3=6</td>\n",
       "      <td>3X3=9</td>\n",
       "      <td>4X3=12</td>\n",
       "      <td>5X3=15</td>\n",
       "      <td>6X3=18</td>\n",
       "      <td>7X3=21</td>\n",
       "      <td>8X3=24</td>\n",
       "      <td>9X3=27</td>\n",
       "    </tr>\n",
       "    <tr>\n",
       "      <th>3</th>\n",
       "      <td>1X4=4</td>\n",
       "      <td>2X4=8</td>\n",
       "      <td>3X4=12</td>\n",
       "      <td>4X4=16</td>\n",
       "      <td>5X4=20</td>\n",
       "      <td>6X4=24</td>\n",
       "      <td>7X4=28</td>\n",
       "      <td>8X4=32</td>\n",
       "      <td>9X4=36</td>\n",
       "    </tr>\n",
       "    <tr>\n",
       "      <th>4</th>\n",
       "      <td>1X5=5</td>\n",
       "      <td>2X5=10</td>\n",
       "      <td>3X5=15</td>\n",
       "      <td>4X5=20</td>\n",
       "      <td>5X5=25</td>\n",
       "      <td>6X5=30</td>\n",
       "      <td>7X5=35</td>\n",
       "      <td>8X5=40</td>\n",
       "      <td>9X5=45</td>\n",
       "    </tr>\n",
       "    <tr>\n",
       "      <th>5</th>\n",
       "      <td>1X6=6</td>\n",
       "      <td>2X6=12</td>\n",
       "      <td>3X6=18</td>\n",
       "      <td>4X6=24</td>\n",
       "      <td>5X6=30</td>\n",
       "      <td>6X6=36</td>\n",
       "      <td>7X6=42</td>\n",
       "      <td>8X6=48</td>\n",
       "      <td>9X6=54</td>\n",
       "    </tr>\n",
       "    <tr>\n",
       "      <th>6</th>\n",
       "      <td>1X7=7</td>\n",
       "      <td>2X7=14</td>\n",
       "      <td>3X7=21</td>\n",
       "      <td>4X7=28</td>\n",
       "      <td>5X7=35</td>\n",
       "      <td>6X7=42</td>\n",
       "      <td>7X7=49</td>\n",
       "      <td>8X7=56</td>\n",
       "      <td>9X7=63</td>\n",
       "    </tr>\n",
       "    <tr>\n",
       "      <th>7</th>\n",
       "      <td>1X8=8</td>\n",
       "      <td>2X8=16</td>\n",
       "      <td>3X8=24</td>\n",
       "      <td>4X8=32</td>\n",
       "      <td>5X8=40</td>\n",
       "      <td>6X8=48</td>\n",
       "      <td>7X8=56</td>\n",
       "      <td>8X8=64</td>\n",
       "      <td>9X8=72</td>\n",
       "    </tr>\n",
       "    <tr>\n",
       "      <th>8</th>\n",
       "      <td>1X9=9</td>\n",
       "      <td>2X9=18</td>\n",
       "      <td>3X9=27</td>\n",
       "      <td>4X9=36</td>\n",
       "      <td>5X9=45</td>\n",
       "      <td>6X9=54</td>\n",
       "      <td>7X9=63</td>\n",
       "      <td>8X9=72</td>\n",
       "      <td>9X9=81</td>\n",
       "    </tr>\n",
       "  </tbody>\n",
       "</table>\n",
       "</div>"
      ],
      "text/plain": [
       "      1단      2단      3단      4단      5단      6단      7단      8단      9단\n",
       "0  1X1=1   2X1=2   3X1=3   4X1=4   5X1=5   6X1=6   7X1=7   8X1=8   9X1=9\n",
       "1  1X2=2   2X2=4   3X2=6   4X2=8  5X2=10  6X2=12  7X2=14  8X2=16  9X2=18\n",
       "2  1X3=3   2X3=6   3X3=9  4X3=12  5X3=15  6X3=18  7X3=21  8X3=24  9X3=27\n",
       "3  1X4=4   2X4=8  3X4=12  4X4=16  5X4=20  6X4=24  7X4=28  8X4=32  9X4=36\n",
       "4  1X5=5  2X5=10  3X5=15  4X5=20  5X5=25  6X5=30  7X5=35  8X5=40  9X5=45\n",
       "5  1X6=6  2X6=12  3X6=18  4X6=24  5X6=30  6X6=36  7X6=42  8X6=48  9X6=54\n",
       "6  1X7=7  2X7=14  3X7=21  4X7=28  5X7=35  6X7=42  7X7=49  8X7=56  9X7=63\n",
       "7  1X8=8  2X8=16  3X8=24  4X8=32  5X8=40  6X8=48  7X8=56  8X8=64  9X8=72\n",
       "8  1X9=9  2X9=18  3X9=27  4X9=36  5X9=45  6X9=54  7X9=63  8X9=72  9X9=81"
      ]
     },
     "execution_count": 35,
     "metadata": {},
     "output_type": "execute_result"
    }
   ],
   "source": [
    "gugudan\n"
   ]
  },
  {
   "attachments": {},
   "cell_type": "markdown",
   "metadata": {},
   "source": [
    "- 원하는 구구단 단과 곱하기를 입력하면 해당 내용을 보여주는 함수 생성 후 적용 "
   ]
  },
  {
   "cell_type": "code",
   "execution_count": 27,
   "metadata": {},
   "outputs": [
    {
     "name": "stdout",
     "output_type": "stream",
     "text": [
      "5X5=25\n"
     ]
    }
   ],
   "source": [
    "def gugudan_result(first,second):\n",
    "    print(gugudan[first][second-1])\n",
    "\n",
    "first = int(input(\"원하는 단을 입력하세요\"))\n",
    "second = int(input(\"원하는 곱하기를 입력하세요\"))\n",
    "\n",
    "gugudan_result(first,second)\n"
   ]
  },
  {
   "cell_type": "code",
   "execution_count": null,
   "metadata": {},
   "outputs": [],
   "source": []
  }
 ],
 "metadata": {
  "kernelspec": {
   "display_name": "Python 3",
   "language": "python",
   "name": "python3"
  },
  "language_info": {
   "codemirror_mode": {
    "name": "ipython",
    "version": 3
   },
   "file_extension": ".py",
   "mimetype": "text/x-python",
   "name": "python",
   "nbconvert_exporter": "python",
   "pygments_lexer": "ipython3",
   "version": "3.9.9"
  },
  "orig_nbformat": 4,
  "vscode": {
   "interpreter": {
    "hash": "20917bf6f99d1a5ddbc5e28f9055f09f315bcc64bccda888d1f584e60d3b17d4"
   }
  }
 },
 "nbformat": 4,
 "nbformat_minor": 2
}
