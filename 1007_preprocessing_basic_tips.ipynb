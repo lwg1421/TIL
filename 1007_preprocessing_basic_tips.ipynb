{
 "cells": [
  {
   "cell_type": "markdown",
   "metadata": {},
   "source": [
    "# #데이터 전처리 기본 TIPS\n"
   ]
  },
  {
   "cell_type": "code",
   "execution_count": null,
   "metadata": {},
   "outputs": [
    {
     "ename": "",
     "evalue": "",
     "output_type": "error",
     "traceback": [
      "\u001b[1;31m커널을 시작하지 못했습니다. \n",
      "\u001b[1;31mJupyter 전자 필기장 서버가 제 시간에 시작하지 못했습니다. \n",
      "\u001b[1;31m자세한 내용은 Jupyter <a href='command:jupyter.viewOutput'>로그</a>를 참조하세요."
     ]
    }
   ],
   "source": [
    "import pandas as pd\n",
    "import numpy as np\n",
    "train = pd.read_csv('https://bit.ly/fc-ml-titanic')\n",
    "train.head(3)"
   ]
  },
  {
   "cell_type": "markdown",
   "metadata": {},
   "source": [
    "## 전처리: train / validation 세트 나누기\n",
    "# 1. 먼저, feature 와 label을 정의합니다.\n",
    "# 2. feature / label을 정의했으면, 적절한 비율로 train / validation set을 나눕니다."
   ]
  },
  {
   "cell_type": "markdown",
   "metadata": {},
   "source": [
    "# test_size: validation set에 할당할 비율 (20% -> 0.2)\n",
    "# shuffle: 셔플 옵션 (기본 True)\n",
    "# random_state: 랜덤 시드값\n"
   ]
  },
  {
   "cell_type": "markdown",
   "metadata": {},
   "source": [
    "# return받는 데이터의 순서가 중요합니다.\n",
    "# 무조건 이 순서로!!\n",
    "# X_TRAIN,X_TEST,Y_TRAIN,Y_TEST"
   ]
  },
  {
   "cell_type": "markdown",
   "metadata": {},
   "source": [
    "## 전처리 : 결측치"
   ]
  },
  {
   "cell_type": "markdown",
   "metadata": {},
   "source": [
    "# 결측치를 확인하는 방법은 pandas의 isnull()\n",
    "# 그리고 합계를 구하는 sum()을 통해 한 눈에 확인할 수 있습니다."
   ]
  },
  {
   "cell_type": "markdown",
   "metadata": {},
   "source": [
    "### 1. 수치형 (Numerical Column) 데이터에 대한 결측치 처리"
   ]
  },
  {
   "cell_type": "markdown",
   "metadata": {},
   "source": [
    "# Age 컬럼 결측치 0으로 채우기"
   ]
  },
  {
   "cell_type": "markdown",
   "metadata": {},
   "source": [
    "# Age 컬럼 결측치 평균값으로 채우기"
   ]
  },
  {
   "cell_type": "markdown",
   "metadata": {},
   "source": [
    "### 2. (Categorical Column) 데이터에 대한 결측치 처리"
   ]
  },
  {
   "cell_type": "markdown",
   "metadata": {},
   "source": [
    "# Label Encoding : 문자(categorical)를 수치(numerical)로 변환"
   ]
  },
  {
   "cell_type": "markdown",
   "metadata": {},
   "source": [
    "# ** **NaN 값이 포함되어 있다면, LabelEncoder 가 정상 동작하지 않습니다.**\n"
   ]
  },
  {
   "cell_type": "markdown",
   "metadata": {},
   "source": [
    "# Embarked 컬럼의 결측치는 가장 많은 값을 차지하는 S로 채움"
   ]
  },
  {
   "cell_type": "markdown",
   "metadata": {},
   "source": [
    "# Embarked 컬럼의 결측치가 채워졌음"
   ]
  },
  {
   "cell_type": "markdown",
   "metadata": {},
   "source": [
    "# 현재 Embarked 컬럼은 문자형이라 효율적이지 않을 수 있으므로 라벨인코딩으로 수치형으로 변환해줌"
   ]
  },
  {
   "cell_type": "markdown",
   "metadata": {},
   "source": [
    "# 원 핫 인코딩"
   ]
  },
  {
   "cell_type": "markdown",
   "metadata": {},
   "source": [
    "# Embarked 를 살펴봅시다\n",
    "# 값의 종류와 개수 확인"
   ]
  },
  {
   "cell_type": "markdown",
   "metadata": {},
   "source": [
    "# 결측값 개수 확인"
   ]
  },
  {
   "cell_type": "markdown",
   "metadata": {},
   "source": [
    "# 결측값 채우기"
   ]
  },
  {
   "cell_type": "markdown",
   "metadata": {},
   "source": [
    "# Embarked 컬럼을 라벨인코딩 한 열 만들기"
   ]
  },
  {
   "cell_type": "markdown",
   "metadata": {},
   "source": [
    "# 라벨인코딩을 통해\n",
    "# 원래 각각 \"S\",\"C\",\"Q\"였던 값들이 2,0,1로 변환되었음"
   ]
  },
  {
   "cell_type": "markdown",
   "metadata": {},
   "source": [
    "# Embarked는 탑승 항구의 이니셜을 나타냈습니다.\n",
    "# 그런데, 우리는 이전에 배운 내용처럼 LabelEncoder 를 통해서 수치형으로 변환해주었습니다.\n",
    "# 하지만, 이대로 데이터를 기계학습을 시키면, 기계는 데이터 안에서 관계를 학습합니다.\n",
    "# 즉, 'S' = 2, 'Q' = 1 이라고 되어 있는데, Q + Q = S 가 된다 라고 학습해버린다는 것이죠.\n",
    "# 그렇기 때문에, 독립적인 데이터는 별도의 column으로 분리하고, 각각의 컬럼에 해당 값에만 True 나머지는\n",
    "# False를 갖습니다. 우리는 이것은 원 핫 인코딩 한다라고 합니다."
   ]
  },
  {
   "cell_type": "markdown",
   "metadata": {},
   "source": [
    "# pandas의 get_dummies 함수를 이용한 원-핫 인코딩"
   ]
  },
  {
   "cell_type": "markdown",
   "metadata": {},
   "source": [
    "# get_dummies는 결과를 데이터프레임 형태로 반환함"
   ]
  },
  {
   "cell_type": "markdown",
   "metadata": {},
   "source": [
    "# 기존 train 데이터셋에 Embarked_dummies를 합쳐 새로운 데이터셋을 만들어줌\n"
   ]
  },
  {
   "cell_type": "markdown",
   "metadata": {},
   "source": [
    "# 전처리: Normalize (정규화)"
   ]
  },
  {
   "cell_type": "markdown",
   "metadata": {},
   "source": [
    "# column 간에 다른 min, max 값을 가지는 경우, 정규화를 통해 최소치/ 최대값의 척도를 맞추어 주는 것\n",
    "# 네이버 영화평점 (0점 ~ 10점): [2, 4, 6, 8, 10]\n",
    "# 넷플릭스 영화평점 (0점 ~ 5점): [1, 2, 3, 4, 5]"
   ]
  },
  {
   "cell_type": "markdown",
   "metadata": {},
   "source": [
    "# MinMaxScaler는 결과를 array 형태로 반환함"
   ]
  },
  {
   "cell_type": "markdown",
   "metadata": {},
   "source": [
    "# MinMaxScaler는 결과를 array 형태로 반환함\n",
    "# 따라서 결과를 데이터프레임으로 변환해주어야함"
   ]
  },
  {
   "cell_type": "markdown",
   "metadata": {},
   "source": [
    "# 표준화 (Standard Scaling)\n",
    "# 평균이 0과 표준편차가 1이 되도록 변환"
   ]
  },
  {
   "cell_type": "code",
   "execution_count": null,
   "metadata": {},
   "outputs": [],
   "source": [
    "# 샘플데이터 생성\n",
    "x = np.arange(10)\n",
    "\n",
    "# outlier 추가\n",
    "x[9] = 1000\n",
    "\n",
    "x.mean(), x.std()"
   ]
  },
  {
   "cell_type": "code",
   "execution_count": null,
   "metadata": {},
   "outputs": [],
   "source": [
    "from sklearn.preprocessing import StandardScaler\n",
    "std_scaler = StandardScaler()\n",
    "scaled = std_scaler.fit_transform(x.reshape(-1, 1))\n",
    "print(\"표준화 전 - 평균: \", x.mean(),\"표준편차 : \", x.std())\n",
    "print(\"표준화 후 - 평균: \", scaled.mean(),\"표준편차 : \", scaled.std())"
   ]
  }
 ],
 "metadata": {
  "kernelspec": {
   "display_name": "Python 3",
   "language": "python",
   "name": "python3"
  },
  "language_info": {
   "name": "python",
   "version": "3.8.5"
  },
  "orig_nbformat": 4
 },
 "nbformat": 4,
 "nbformat_minor": 2
}
