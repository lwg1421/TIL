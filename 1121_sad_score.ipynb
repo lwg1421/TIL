{
 "cells": [
  {
   "cell_type": "code",
   "execution_count": 31,
   "id": "4450b54f",
   "metadata": {
    "scrolled": true
   },
   "outputs": [
    {
     "data": {
      "text/html": [
       "<div>\n",
       "<style scoped>\n",
       "    .dataframe tbody tr th:only-of-type {\n",
       "        vertical-align: middle;\n",
       "    }\n",
       "\n",
       "    .dataframe tbody tr th {\n",
       "        vertical-align: top;\n",
       "    }\n",
       "\n",
       "    .dataframe thead th {\n",
       "        text-align: right;\n",
       "    }\n",
       "</style>\n",
       "<table border=\"1\" class=\"dataframe\">\n",
       "  <thead>\n",
       "    <tr style=\"text-align: right;\">\n",
       "      <th></th>\n",
       "      <th>8</th>\n",
       "      <th>레스토랑명</th>\n",
       "      <th>카테고리</th>\n",
       "      <th>감정/박은지</th>\n",
       "      <th>계절/박창훈</th>\n",
       "      <th>비/정찬영</th>\n",
       "      <th>눈/최인태</th>\n",
       "      <th>기쁨/은지</th>\n",
       "      <th>슬픔/정찬영</th>\n",
       "      <th>분노/주경배</th>\n",
       "      <th>봄/창훈</th>\n",
       "      <th>여름/최인태</th>\n",
       "      <th>가을/원근</th>\n",
       "      <th>겨울/원근</th>\n",
       "    </tr>\n",
       "  </thead>\n",
       "  <tbody>\n",
       "    <tr>\n",
       "      <th>0</th>\n",
       "      <td>더블에스프레소</td>\n",
       "      <td>Back다방</td>\n",
       "      <td>뺵다방커피</td>\n",
       "      <td>음료</td>\n",
       "      <td>없음</td>\n",
       "      <td>없음</td>\n",
       "      <td>없음</td>\n",
       "      <td>음료</td>\n",
       "      <td>음료</td>\n",
       "      <td>없음</td>\n",
       "      <td>없음</td>\n",
       "      <td>없음</td>\n",
       "      <td>없음</td>\n",
       "      <td>없음</td>\n",
       "    </tr>\n",
       "    <tr>\n",
       "      <th>1</th>\n",
       "      <td>에스프레소 콤프레또</td>\n",
       "      <td>Back다방</td>\n",
       "      <td>뺵다방커피</td>\n",
       "      <td>음료</td>\n",
       "      <td>없음</td>\n",
       "      <td>없음</td>\n",
       "      <td>없음</td>\n",
       "      <td>음료</td>\n",
       "      <td>음료</td>\n",
       "      <td>없음</td>\n",
       "      <td>없음</td>\n",
       "      <td>없음</td>\n",
       "      <td>없음</td>\n",
       "      <td>없음</td>\n",
       "    </tr>\n",
       "    <tr>\n",
       "      <th>2</th>\n",
       "      <td>앗!메리카노(HOT)</td>\n",
       "      <td>Back다방</td>\n",
       "      <td>뺵다방커피</td>\n",
       "      <td>음료</td>\n",
       "      <td>없음</td>\n",
       "      <td>없음</td>\n",
       "      <td>없음</td>\n",
       "      <td>음료</td>\n",
       "      <td>음료</td>\n",
       "      <td>없음</td>\n",
       "      <td>없음</td>\n",
       "      <td>없음</td>\n",
       "      <td>없음</td>\n",
       "      <td>없음</td>\n",
       "    </tr>\n",
       "    <tr>\n",
       "      <th>3</th>\n",
       "      <td>앗!메리카노(ICED)</td>\n",
       "      <td>Back다방</td>\n",
       "      <td>뺵다방커피</td>\n",
       "      <td>음료</td>\n",
       "      <td>없음</td>\n",
       "      <td>없음</td>\n",
       "      <td>없음</td>\n",
       "      <td>음료</td>\n",
       "      <td>음료</td>\n",
       "      <td>없음</td>\n",
       "      <td>없음</td>\n",
       "      <td>없음</td>\n",
       "      <td>없음</td>\n",
       "      <td>없음</td>\n",
       "    </tr>\n",
       "    <tr>\n",
       "      <th>4</th>\n",
       "      <td>원조커피(HOT)</td>\n",
       "      <td>Back다방</td>\n",
       "      <td>뺵다방커피</td>\n",
       "      <td>음료</td>\n",
       "      <td>없음</td>\n",
       "      <td>없음</td>\n",
       "      <td>없음</td>\n",
       "      <td>음료</td>\n",
       "      <td>음료</td>\n",
       "      <td>없음</td>\n",
       "      <td>없음</td>\n",
       "      <td>없음</td>\n",
       "      <td>없음</td>\n",
       "      <td>없음</td>\n",
       "    </tr>\n",
       "    <tr>\n",
       "      <th>...</th>\n",
       "      <td>...</td>\n",
       "      <td>...</td>\n",
       "      <td>...</td>\n",
       "      <td>...</td>\n",
       "      <td>...</td>\n",
       "      <td>...</td>\n",
       "      <td>...</td>\n",
       "      <td>...</td>\n",
       "      <td>...</td>\n",
       "      <td>...</td>\n",
       "      <td>...</td>\n",
       "      <td>...</td>\n",
       "      <td>...</td>\n",
       "      <td>...</td>\n",
       "    </tr>\n",
       "    <tr>\n",
       "      <th>342</th>\n",
       "      <td>차돌된장찌개</td>\n",
       "      <td>본가</td>\n",
       "      <td>한식</td>\n",
       "      <td>찌개 및 백반</td>\n",
       "      <td>불고기/갈비살/차돌박이</td>\n",
       "      <td>삼계탕/백숙/찜닭</td>\n",
       "      <td>한정식</td>\n",
       "      <td>찌개 및 백반/분식</td>\n",
       "      <td>찌개 및 백반</td>\n",
       "      <td>찌개 및 백반</td>\n",
       "      <td>한정식</td>\n",
       "      <td>포장마차</td>\n",
       "      <td>전라도음식</td>\n",
       "      <td>없음</td>\n",
       "    </tr>\n",
       "    <tr>\n",
       "      <th>343</th>\n",
       "      <td>갈비탕</td>\n",
       "      <td>본가</td>\n",
       "      <td>한식</td>\n",
       "      <td>찌개 및 백반</td>\n",
       "      <td>설렁탕/곰탕/도가니탕</td>\n",
       "      <td>삼계탕/백숙/찜닭</td>\n",
       "      <td>한정식</td>\n",
       "      <td>찌개 및 백반/분식</td>\n",
       "      <td>찌개 및 백반</td>\n",
       "      <td>찌개 및 백반</td>\n",
       "      <td>한정식</td>\n",
       "      <td>오리훈제/구이/로스/탕</td>\n",
       "      <td>전라도음식</td>\n",
       "      <td>없음</td>\n",
       "    </tr>\n",
       "    <tr>\n",
       "      <th>344</th>\n",
       "      <td>본가비빔밥</td>\n",
       "      <td>본가</td>\n",
       "      <td>한식</td>\n",
       "      <td>없음</td>\n",
       "      <td>비빔밥/돌솥밥/쌈밥</td>\n",
       "      <td>비빔밥/돌솥밥/쌈밥</td>\n",
       "      <td>한정식</td>\n",
       "      <td>찌개 및 백반/분식</td>\n",
       "      <td>비빔밥</td>\n",
       "      <td>비빔밥</td>\n",
       "      <td>한정식</td>\n",
       "      <td>없음</td>\n",
       "      <td>전라도음식</td>\n",
       "      <td>없음</td>\n",
       "    </tr>\n",
       "    <tr>\n",
       "      <th>345</th>\n",
       "      <td>본가냉면</td>\n",
       "      <td>본가</td>\n",
       "      <td>한식</td>\n",
       "      <td>없음</td>\n",
       "      <td>냉면</td>\n",
       "      <td>냉면</td>\n",
       "      <td>냉면</td>\n",
       "      <td>찌개 및 백반/분식</td>\n",
       "      <td>분식</td>\n",
       "      <td>분식</td>\n",
       "      <td>한정식</td>\n",
       "      <td>냉면</td>\n",
       "      <td>전라도음식</td>\n",
       "      <td>없음</td>\n",
       "    </tr>\n",
       "    <tr>\n",
       "      <th>346</th>\n",
       "      <td>비빔냉면</td>\n",
       "      <td>본가</td>\n",
       "      <td>한식</td>\n",
       "      <td>없음</td>\n",
       "      <td>냉면</td>\n",
       "      <td>냉면</td>\n",
       "      <td>냉면</td>\n",
       "      <td>찌개 및 백반/분식</td>\n",
       "      <td>분식</td>\n",
       "      <td>분식</td>\n",
       "      <td>한정식</td>\n",
       "      <td>냉면</td>\n",
       "      <td>전라도음식</td>\n",
       "      <td>없음</td>\n",
       "    </tr>\n",
       "  </tbody>\n",
       "</table>\n",
       "<p>347 rows × 14 columns</p>\n",
       "</div>"
      ],
      "text/plain": [
       "                8   레스토랑명   카테고리   감정/박은지        계절/박창훈       비/정찬영 눈/최인태  \\\n",
       "0         더블에스프레소  Back다방  뺵다방커피       음료            없음          없음    없음   \n",
       "1      에스프레소 콤프레또  Back다방  뺵다방커피       음료            없음          없음    없음   \n",
       "2     앗!메리카노(HOT)  Back다방  뺵다방커피       음료            없음          없음    없음   \n",
       "3    앗!메리카노(ICED)  Back다방  뺵다방커피       음료            없음          없음    없음   \n",
       "4       원조커피(HOT)  Back다방  뺵다방커피       음료            없음          없음    없음   \n",
       "..            ...     ...    ...      ...           ...         ...   ...   \n",
       "342        차돌된장찌개      본가     한식  찌개 및 백반  불고기/갈비살/차돌박이   삼계탕/백숙/찜닭   한정식   \n",
       "343           갈비탕      본가     한식  찌개 및 백반   설렁탕/곰탕/도가니탕   삼계탕/백숙/찜닭   한정식   \n",
       "344         본가비빔밥      본가     한식       없음    비빔밥/돌솥밥/쌈밥  비빔밥/돌솥밥/쌈밥   한정식   \n",
       "345          본가냉면      본가     한식       없음            냉면          냉면    냉면   \n",
       "346          비빔냉면      본가     한식       없음            냉면          냉면    냉면   \n",
       "\n",
       "          기쁨/은지   슬픔/정찬영   분노/주경배 봄/창훈        여름/최인태  가을/원근 겨울/원근  \n",
       "0            음료       음료       없음   없음            없음     없음    없음  \n",
       "1            음료       음료       없음   없음            없음     없음    없음  \n",
       "2            음료       음료       없음   없음            없음     없음    없음  \n",
       "3            음료       음료       없음   없음            없음     없음    없음  \n",
       "4            음료       음료       없음   없음            없음     없음    없음  \n",
       "..          ...      ...      ...  ...           ...    ...   ...  \n",
       "342  찌개 및 백반/분식  찌개 및 백반  찌개 및 백반  한정식          포장마차  전라도음식    없음  \n",
       "343  찌개 및 백반/분식  찌개 및 백반  찌개 및 백반  한정식  오리훈제/구이/로스/탕  전라도음식    없음  \n",
       "344  찌개 및 백반/분식      비빔밥      비빔밥  한정식            없음  전라도음식    없음  \n",
       "345  찌개 및 백반/분식       분식       분식  한정식            냉면  전라도음식    없음  \n",
       "346  찌개 및 백반/분식       분식       분식  한정식            냉면  전라도음식    없음  \n",
       "\n",
       "[347 rows x 14 columns]"
      ]
     },
     "execution_count": 31,
     "metadata": {},
     "output_type": "execute_result"
    }
   ],
   "source": [
    "\n",
    "import pandas as pd\n",
    "\n",
    "# 인덱스를 지정해 시트 설정\n",
    "df = pd.read_excel(\"C:/dataset/Dataset.xlsx\")\n",
    "df"
   ]
  },
  {
   "cell_type": "code",
   "execution_count": 32,
   "id": "8a168fbe",
   "metadata": {},
   "outputs": [
    {
     "data": {
      "text/plain": [
       "array(['음료', '초콜릿', '아이스크림', '없음', '찜 및 볶음류', '찌개 및 백반', '분식', '비빔밥'],\n",
       "      dtype=object)"
      ]
     },
     "execution_count": 32,
     "metadata": {},
     "output_type": "execute_result"
    }
   ],
   "source": [
    "df['슬픔/정찬영'].unique()"
   ]
  },
  {
   "cell_type": "code",
   "execution_count": 33,
   "id": "9b0b05ad",
   "metadata": {},
   "outputs": [
    {
     "data": {
      "text/plain": [
       "347"
      ]
     },
     "execution_count": 33,
     "metadata": {},
     "output_type": "execute_result"
    }
   ],
   "source": [
    "sad_score = []\n",
    "a = list(df['슬픔/정찬영'])\n",
    "for i in range(len(a)):\n",
    "    if a[i] == '음료':\n",
    "        sad_score.append(0.9)\n",
    "    elif a[i] == '초콜릿':\n",
    "        sad_score.append(0.8)    \n",
    "    elif a[i] == '찌개 및 백반':\n",
    "        sad_score.append(0.7)\n",
    "    elif a[i] == '분식':\n",
    "        sad_score.append(0.6)\n",
    "    elif a[i] == '없음':\n",
    "        sad_score.append(0)\n",
    "    elif a[i] == '찜 및 볶음류':\n",
    "        sad_score.append(0.4)\n",
    "    elif a[i] == '죽':\n",
    "        sad_score.append(0.3)\n",
    "    elif a[i] == '아이스크림':\n",
    "        sad_score.append(0.2)\n",
    "    elif a[i] == '비빔밥':\n",
    "        sad_score.append(0.1)\n",
    "len(sad_score)\n",
    "        \n",
    "    "
   ]
  },
  {
   "cell_type": "code",
   "execution_count": 34,
   "id": "9a631b08",
   "metadata": {},
   "outputs": [
    {
     "data": {
      "text/plain": [
       "array(['없음', '지중해음식', '한정식', '돼지갈비/갈매기살', '철판구이/볶음밥', '불고기/갈비살/차돌박이'],\n",
       "      dtype=object)"
      ]
     },
     "execution_count": 34,
     "metadata": {},
     "output_type": "execute_result"
    }
   ],
   "source": [
    "df['봄/창훈'].unique()"
   ]
  },
  {
   "cell_type": "code",
   "execution_count": 35,
   "id": "34151293",
   "metadata": {},
   "outputs": [
    {
     "data": {
      "text/plain": [
       "347"
      ]
     },
     "execution_count": 35,
     "metadata": {},
     "output_type": "execute_result"
    }
   ],
   "source": [
    "spring_score = []\n",
    "b = list(df['봄/창훈'])\n",
    "for i in range(len(b)):\n",
    "    if b[i] == '한정식':\n",
    "        spring_score.append(1)\n",
    "    elif b[i] == '철판구이/볶음밥':\n",
    "        spring_score.append(0.9)\n",
    "    elif b[i] == '낙지':\n",
    "        spring_score.append(0.8)\n",
    "    elif b[i] == '오리훈제/구이/로스/탕':\n",
    "        spring_score.append(0.7)\n",
    "    elif b[i] == '지중해음식':\n",
    "        spring_score.append(0.6)\n",
    "    elif b[i] == '파전/모듬전/빈대떡':\n",
    "        spring_score.append(0.5)\n",
    "    elif b[i] == '불고기/갈비살/차돌박이':\n",
    "        spring_score.append(0.4)\n",
    "    elif b[i] == '딤섬':\n",
    "        spring_score.append(0.3)\n",
    "    elif b[i] == '비빔밥/돌솥밥/쌈밥':\n",
    "        spring_score.append(0.2)\n",
    "    elif b[i] == '돼지갈비/갈매기살':\n",
    "        spring_score.append(0.1)\n",
    "    elif b[i] == '없음':\n",
    "        spring_score.append(0)\n",
    "len(spring_score)"
   ]
  },
  {
   "cell_type": "code",
   "execution_count": 36,
   "id": "dc261cb9",
   "metadata": {},
   "outputs": [
    {
     "data": {
      "text/plain": [
       "347"
      ]
     },
     "execution_count": 36,
     "metadata": {},
     "output_type": "execute_result"
    }
   ],
   "source": [
    "summer_score = []\n",
    "c = list(df['여름/최인태'])\n",
    "for i in range(len(c)):\n",
    "    if c[i] == '햄버거':\n",
    "        summer_score.append(1)\n",
    "    elif c[i] == '삼계탕/백숙/찜닭':\n",
    "        summer_score.append(0.9)\n",
    "    elif c[i] == '냉면':\n",
    "        summer_score.append(0.8)\n",
    "    elif c[i] == '아이스크림':\n",
    "        summer_score.append(0.7)\n",
    "    elif c[i] == '카레':\n",
    "        summer_score.append(0.6)\n",
    "    elif c[i] == '장어구이/꼼장어':\n",
    "        summer_score.append(0.5)\n",
    "    elif c[i] == '전복':\n",
    "        summer_score.append(0.4)\n",
    "    elif c[i] == '치킨':\n",
    "        summer_score.append(0.3)\n",
    "    elif c[i] == '오리훈제/구이/로스/탕':\n",
    "        summer_score.append(0.2)\n",
    "    elif c[i] == '포장마차':\n",
    "        summer_score.append(0.1)\n",
    "    elif c[i] == '없음':\n",
    "        summer_score.append(0)\n",
    "    else:\n",
    "        summer_score.append(0)\n",
    "len(summer_score)\n"
   ]
  },
  {
   "cell_type": "code",
   "execution_count": 37,
   "id": "5a3109d6",
   "metadata": {},
   "outputs": [
    {
     "data": {
      "text/plain": [
       "array(['없음', '브런치', '전라도음식', '동남아음식', '태국음식', '설렁탕/곰탕/도가니탕'], dtype=object)"
      ]
     },
     "execution_count": 37,
     "metadata": {},
     "output_type": "execute_result"
    }
   ],
   "source": [
    "df['가을/원근'].unique()"
   ]
  },
  {
   "cell_type": "code",
   "execution_count": 38,
   "id": "0cbad686",
   "metadata": {},
   "outputs": [
    {
     "data": {
      "text/plain": [
       "347"
      ]
     },
     "execution_count": 38,
     "metadata": {},
     "output_type": "execute_result"
    }
   ],
   "source": [
    "fall_score = []\n",
    "d = list(df['가을/원근'])\n",
    "for i in range(len(d)):\n",
    "    if d[i] == '맥주/호프':\n",
    "        fall_score.append(1)\n",
    "    elif d[i] == '전라도음식':\n",
    "        fall_score.append(0.9)\n",
    "    elif d[i] == '브런치':\n",
    "        fall_score.append(0.8)\n",
    "    elif d[i] == '딤섬':\n",
    "        fall_score.append(0.7)\n",
    "    elif d[i] == '바':\n",
    "        fall_score.append(0.6)\n",
    "    elif d[i] == '설렁탕/곰탕/도가니탕':\n",
    "        fall_score.append(0.5)\n",
    "    elif d[i] == '이슬람음식':\n",
    "        fall_score.append(0.4)\n",
    "    elif d[i] == '동남아음식':\n",
    "        fall_score.append(0.3)\n",
    "    elif d[i] == '순두부':\n",
    "        fall_score.append(0.2)\n",
    "    elif d[i] == '태국음식':\n",
    "        fall_score.append(0.1)\n",
    "    elif d[i] == '없음':\n",
    "        fall_score.append(0)\n",
    "len(fall_score)"
   ]
  },
  {
   "cell_type": "code",
   "execution_count": 39,
   "id": "e8742e71",
   "metadata": {},
   "outputs": [
    {
     "data": {
      "text/plain": [
       "array(['없음', '스테이크하우스', '동남아음식', '씨푸드'], dtype=object)"
      ]
     },
     "execution_count": 39,
     "metadata": {},
     "output_type": "execute_result"
    }
   ],
   "source": [
    "df['겨울/원근'].unique()"
   ]
  },
  {
   "cell_type": "code",
   "execution_count": 40,
   "id": "199de197",
   "metadata": {},
   "outputs": [
    {
     "data": {
      "text/plain": [
       "347"
      ]
     },
     "execution_count": 40,
     "metadata": {},
     "output_type": "execute_result"
    }
   ],
   "source": [
    "winter_score = []\n",
    "e = list(df['겨울/원근'])\n",
    "for i in range(len(b)):\n",
    "    if e[i] == '회':\n",
    "        winter_score.append(1)\n",
    "    elif e[i] == '해물탕/해물요리/꽃게':\n",
    "        winter_score.append(0.9)\n",
    "    elif e[i] == '쌀국수':\n",
    "        winter_score.append(0.8)\n",
    "    elif e[i] == '사케':\n",
    "        winter_score.append(0.7)\n",
    "    elif e[i] == '칵테일':\n",
    "        winter_score.append(0.6)\n",
    "    elif e[i] == '바':\n",
    "        winter_score.append(0.5)\n",
    "    elif e[i] == '씨푸드':\n",
    "        winter_score.append(0.4)\n",
    "    elif e[i] == '동남아음식':\n",
    "        winter_score.append(0.3)\n",
    "    elif e[i] == '와인':\n",
    "        winter_score.append(0.2)\n",
    "    elif e[i] == '스테이크하우스':\n",
    "        winter_score.append(0.1)\n",
    "    elif e[i] == '없음':\n",
    "        winter_score.append(0)\n",
    "len(winter_score)"
   ]
  },
  {
   "cell_type": "code",
   "execution_count": 41,
   "id": "5eff3117",
   "metadata": {},
   "outputs": [
    {
     "data": {
      "text/plain": [
       "array(['없음', '아이스크림', '지중해음식', '남미음식', '철판구이/볶음밥', '중국음식', '삼계탕/백숙/찜닭',\n",
       "       '냉면', '쌀국수', '카레', '비빔밥/돌솥밥/쌈밥', '파전/모듬전/빈대떡', '곱창/양/대창/막창',\n",
       "       '족발/보쌈', '햄버거'], dtype=object)"
      ]
     },
     "execution_count": 41,
     "metadata": {},
     "output_type": "execute_result"
    }
   ],
   "source": [
    "df['비/정찬영'].unique()"
   ]
  },
  {
   "cell_type": "code",
   "execution_count": 42,
   "id": "2648cf94",
   "metadata": {},
   "outputs": [
    {
     "data": {
      "text/plain": [
       "347"
      ]
     },
     "execution_count": 42,
     "metadata": {},
     "output_type": "execute_result"
    }
   ],
   "source": [
    "rain_score = []\n",
    "f = list(df['비/정찬영'])\n",
    "for i in range(len(f)):\n",
    "    if f[i] == '포장마차':\n",
    "        rain_score.append(1)\n",
    "    elif f[i] == '파전/모듬전/빈대떡':\n",
    "        rain_score.append(0.9)\n",
    "    elif f[i] == '삼계탕/백숙/찜닭':\n",
    "        rain_score.append(0.8)\n",
    "    elif f[i] == '철판구이/볶음밥':\n",
    "        rain_score.append(0.7)\n",
    "    elif f[i] == '중국음식':\n",
    "        rain_score.append(0.6)\n",
    "    elif f[i] == '오리훈제/구이/로스/탕':\n",
    "        rain_score.append(0.5)\n",
    "    elif f[i] == '곱창/양/대창/막창':\n",
    "        rain_score.append(0.4)\n",
    "    elif f[i] == '사케':\n",
    "        rain_score.append(0.3)\n",
    "    elif f[i] == '쌀국수':\n",
    "        rain_score.append(0.2)\n",
    "    elif f[i] == '뷔페':\n",
    "        rain_score.append(0.1)\n",
    "    elif f[i] == '없음':\n",
    "        rain_score.append(0)\n",
    "    elif f[i] == '딤섬':\n",
    "        rain_score.append(-1)\n",
    "    elif f[i] == '지중해음식':\n",
    "        rain_score.append(-0.9)\n",
    "    elif f[i] == '햄버거':\n",
    "        rain_score.append(-0.8)\n",
    "    elif f[i] == '남미음식':\n",
    "        rain_score.append(-0.7)\n",
    "    elif f[i] == '아이스크림':\n",
    "        rain_score.append(-0.6)\n",
    "    elif f[i] == '이슬람음식':\n",
    "        rain_score.append(-0.5)\n",
    "    elif f[i] == '비빔밥/돌솥밥/쌈밥':\n",
    "        rain_score.append(-0.4)\n",
    "    elif f[i] == '냉면':\n",
    "        rain_score.append(-0.3)\n",
    "    elif f[i] == '족발/보쌈':\n",
    "        rain_score.append(-0.2)\n",
    "    elif f[i] == '카레':\n",
    "        rain_score.append(-0.1)\n",
    "len(rain_score)"
   ]
  },
  {
   "cell_type": "code",
   "execution_count": 43,
   "id": "6bcac65a",
   "metadata": {},
   "outputs": [
    {
     "data": {
      "text/plain": [
       "array(['없음', '아이스크림', '지중해음식', '한정식', '퓨전레스토랑', '카레', '설렁탕/곰탕/도가니탕', '냉면',\n",
       "       '떡', '퓨전레스트랑', '삼겹살/목살', '곱창/양/대창/막창'], dtype=object)"
      ]
     },
     "execution_count": 43,
     "metadata": {},
     "output_type": "execute_result"
    }
   ],
   "source": [
    "df['눈/최인태'].unique()"
   ]
  },
  {
   "cell_type": "code",
   "execution_count": 44,
   "id": "ef013f16",
   "metadata": {},
   "outputs": [
    {
     "data": {
      "text/plain": [
       "347"
      ]
     },
     "execution_count": 44,
     "metadata": {},
     "output_type": "execute_result"
    }
   ],
   "source": [
    "snow_score = []\n",
    "g = list(df['눈/최인태'])\n",
    "for i in range(len(g)):\n",
    "    if g[i] == '삼겹살/목살':\n",
    "        snow_score.append(1)\n",
    "    elif g[i] == '이슬람음식':\n",
    "        snow_score.append(0.9)\n",
    "    elif g[i] == '이테리레스토랑':\n",
    "        snow_score.append(0.8)\n",
    "    elif g[i] == '설렁탕/곰탕/도가니탕':\n",
    "        snow_score.append(0.7)\n",
    "    elif g[i] == '바':\n",
    "        snow_score.append(0.6)\n",
    "    elif g[i] == '프렌치레스토랑':\n",
    "        snow_score.append(0.5)\n",
    "    elif g[i] == '패밀리레스토랑':\n",
    "        snow_score.append(0.4)\n",
    "    elif g[i] == '지중해음식':\n",
    "        snow_score.append(0.3)\n",
    "    elif g[i] == '동남아음식':\n",
    "        snow_score.append(0.2)\n",
    "    elif g[i] == '떡':\n",
    "        snow_score.append(0.1)\n",
    "    elif g[i] == '없음':\n",
    "        snow_score.append(0)\n",
    "    elif g[i] =='떡':\n",
    "        snow_socre.append(-1)\n",
    "    elif g[i] == '딤섬':\n",
    "        snow_score.append(-0.9)\n",
    "    elif g[i] == '감자탕':\n",
    "        snow_score.append(-0.8)\n",
    "    elif g[i] == '냉면':\n",
    "        snow_score.append(-0.7)\n",
    "    elif g[i] == '퓨전레스토랑':\n",
    "        snow_score.append(-0.6)\n",
    "    elif g[i] == '퓨전레스트랑':\n",
    "        snow_score.append(-0.6)\n",
    "    elif g[i] == '아이스크림':\n",
    "        snow_score.append(-0.5)\n",
    "    elif g[i] == '카레':\n",
    "        snow_score.append(-0.4)\n",
    "    elif g[i] == '남미음식':\n",
    "        snow_score.append(-0.3)\n",
    "    elif g[i] == '한정식':\n",
    "        snow_score.append(-0.2)\n",
    "    elif g[i] == '곱창/양/대창/막창':\n",
    "        snow_score.append(-0.1)\n",
    "    else:\n",
    "        snow_score.append(0)\n",
    "len(snow_score)"
   ]
  },
  {
   "cell_type": "code",
   "execution_count": 45,
   "id": "1e5c4379",
   "metadata": {},
   "outputs": [],
   "source": [
    "spring_after = [spring_score[i] * 0.5 for i in range(len(spring_score))]\n",
    "rain_after = [rain_score[i] * 0.5 for i in range(len(rain_score))]\n",
    "sad_spring_rain = [x+y+z for x,y,z in zip(sad_score, spring_after, rain_after)]\n",
    "sad_spring_rainx = [x+y for x,y in zip(sad_score, spring_after)]"
   ]
  },
  {
   "cell_type": "code",
   "execution_count": 46,
   "id": "872526e1",
   "metadata": {},
   "outputs": [],
   "source": [
    "summer_after = [summer_score[i] * 0.5 for i in range(len(summer_score))]\n",
    "sad_summer_rain = [x+y+z for x,y,z in zip(sad_score, summer_after, rain_after)]\n",
    "sad_summer_rainx = [x+y for x,y in zip(sad_score, summer_after)]"
   ]
  },
  {
   "cell_type": "code",
   "execution_count": 47,
   "id": "45d8cd5f",
   "metadata": {},
   "outputs": [],
   "source": [
    "fall_after = [fall_score[i] * 0.5 for i in range(len(fall_score))]\n",
    "sad_fall_rain = [x+y+z for x,y,z in zip(sad_score, fall_after, rain_after)]\n",
    "sad_fall_rainx = [x+y for x,y in zip(sad_score, fall_after)]"
   ]
  },
  {
   "cell_type": "code",
   "execution_count": 48,
   "id": "8b4209d2",
   "metadata": {},
   "outputs": [],
   "source": [
    "winter_after = [winter_score[i] * 0.5 for i in range(len(winter_score))]\n",
    "snow_after = [snow_score[i] * 0.5 for i in range(len(snow_score))]\n",
    "sad_winter_rain = [x+y+z for x,y,z in zip(sad_score, winter_after, rain_after)]\n",
    "sad_winter_rainx = [x+y for x,y in zip(sad_score, winter_after)]\n",
    "sad_winter_snow = [x+y+z for x,y,z in zip(sad_score, winter_after, rain_after)]\n",
    "sad_winter_snowx = [x+y for x,y in zip(sad_score, winter_after)]"
   ]
  },
  {
   "cell_type": "code",
   "execution_count": 49,
   "id": "db34856a",
   "metadata": {},
   "outputs": [
    {
     "data": {
      "text/html": [
       "<div>\n",
       "<style scoped>\n",
       "    .dataframe tbody tr th:only-of-type {\n",
       "        vertical-align: middle;\n",
       "    }\n",
       "\n",
       "    .dataframe tbody tr th {\n",
       "        vertical-align: top;\n",
       "    }\n",
       "\n",
       "    .dataframe thead th {\n",
       "        text-align: right;\n",
       "    }\n",
       "</style>\n",
       "<table border=\"1\" class=\"dataframe\">\n",
       "  <thead>\n",
       "    <tr style=\"text-align: right;\">\n",
       "      <th></th>\n",
       "      <th>sad_spring_rain</th>\n",
       "      <th>sad_spring_rainx</th>\n",
       "      <th>sad_summer_rain</th>\n",
       "      <th>sad_summer_rainx</th>\n",
       "      <th>sad_fall_rain</th>\n",
       "      <th>sad_fall_rainx</th>\n",
       "      <th>sad_winter_rain</th>\n",
       "      <th>sad_winter_rainx</th>\n",
       "      <th>sad_winter_snow</th>\n",
       "      <th>sad_winter_snowx</th>\n",
       "    </tr>\n",
       "  </thead>\n",
       "  <tbody>\n",
       "    <tr>\n",
       "      <th>0</th>\n",
       "      <td>0.90</td>\n",
       "      <td>0.9</td>\n",
       "      <td>0.90</td>\n",
       "      <td>0.90</td>\n",
       "      <td>0.90</td>\n",
       "      <td>0.90</td>\n",
       "      <td>0.90</td>\n",
       "      <td>0.9</td>\n",
       "      <td>0.90</td>\n",
       "      <td>0.9</td>\n",
       "    </tr>\n",
       "    <tr>\n",
       "      <th>1</th>\n",
       "      <td>0.90</td>\n",
       "      <td>0.9</td>\n",
       "      <td>0.90</td>\n",
       "      <td>0.90</td>\n",
       "      <td>0.90</td>\n",
       "      <td>0.90</td>\n",
       "      <td>0.90</td>\n",
       "      <td>0.9</td>\n",
       "      <td>0.90</td>\n",
       "      <td>0.9</td>\n",
       "    </tr>\n",
       "    <tr>\n",
       "      <th>2</th>\n",
       "      <td>0.90</td>\n",
       "      <td>0.9</td>\n",
       "      <td>0.90</td>\n",
       "      <td>0.90</td>\n",
       "      <td>0.90</td>\n",
       "      <td>0.90</td>\n",
       "      <td>0.90</td>\n",
       "      <td>0.9</td>\n",
       "      <td>0.90</td>\n",
       "      <td>0.9</td>\n",
       "    </tr>\n",
       "    <tr>\n",
       "      <th>3</th>\n",
       "      <td>0.90</td>\n",
       "      <td>0.9</td>\n",
       "      <td>0.90</td>\n",
       "      <td>0.90</td>\n",
       "      <td>0.90</td>\n",
       "      <td>0.90</td>\n",
       "      <td>0.90</td>\n",
       "      <td>0.9</td>\n",
       "      <td>0.90</td>\n",
       "      <td>0.9</td>\n",
       "    </tr>\n",
       "    <tr>\n",
       "      <th>4</th>\n",
       "      <td>0.90</td>\n",
       "      <td>0.9</td>\n",
       "      <td>0.90</td>\n",
       "      <td>0.90</td>\n",
       "      <td>0.90</td>\n",
       "      <td>0.90</td>\n",
       "      <td>0.90</td>\n",
       "      <td>0.9</td>\n",
       "      <td>0.90</td>\n",
       "      <td>0.9</td>\n",
       "    </tr>\n",
       "    <tr>\n",
       "      <th>...</th>\n",
       "      <td>...</td>\n",
       "      <td>...</td>\n",
       "      <td>...</td>\n",
       "      <td>...</td>\n",
       "      <td>...</td>\n",
       "      <td>...</td>\n",
       "      <td>...</td>\n",
       "      <td>...</td>\n",
       "      <td>...</td>\n",
       "      <td>...</td>\n",
       "    </tr>\n",
       "    <tr>\n",
       "      <th>342</th>\n",
       "      <td>1.60</td>\n",
       "      <td>1.2</td>\n",
       "      <td>1.15</td>\n",
       "      <td>0.75</td>\n",
       "      <td>1.55</td>\n",
       "      <td>1.15</td>\n",
       "      <td>1.10</td>\n",
       "      <td>0.7</td>\n",
       "      <td>1.10</td>\n",
       "      <td>0.7</td>\n",
       "    </tr>\n",
       "    <tr>\n",
       "      <th>343</th>\n",
       "      <td>1.60</td>\n",
       "      <td>1.2</td>\n",
       "      <td>1.20</td>\n",
       "      <td>0.80</td>\n",
       "      <td>1.55</td>\n",
       "      <td>1.15</td>\n",
       "      <td>1.10</td>\n",
       "      <td>0.7</td>\n",
       "      <td>1.10</td>\n",
       "      <td>0.7</td>\n",
       "    </tr>\n",
       "    <tr>\n",
       "      <th>344</th>\n",
       "      <td>0.40</td>\n",
       "      <td>0.6</td>\n",
       "      <td>-0.10</td>\n",
       "      <td>0.10</td>\n",
       "      <td>0.35</td>\n",
       "      <td>0.55</td>\n",
       "      <td>-0.10</td>\n",
       "      <td>0.1</td>\n",
       "      <td>-0.10</td>\n",
       "      <td>0.1</td>\n",
       "    </tr>\n",
       "    <tr>\n",
       "      <th>345</th>\n",
       "      <td>0.95</td>\n",
       "      <td>1.1</td>\n",
       "      <td>0.85</td>\n",
       "      <td>1.00</td>\n",
       "      <td>0.90</td>\n",
       "      <td>1.05</td>\n",
       "      <td>0.45</td>\n",
       "      <td>0.6</td>\n",
       "      <td>0.45</td>\n",
       "      <td>0.6</td>\n",
       "    </tr>\n",
       "    <tr>\n",
       "      <th>346</th>\n",
       "      <td>0.95</td>\n",
       "      <td>1.1</td>\n",
       "      <td>0.85</td>\n",
       "      <td>1.00</td>\n",
       "      <td>0.90</td>\n",
       "      <td>1.05</td>\n",
       "      <td>0.45</td>\n",
       "      <td>0.6</td>\n",
       "      <td>0.45</td>\n",
       "      <td>0.6</td>\n",
       "    </tr>\n",
       "  </tbody>\n",
       "</table>\n",
       "<p>347 rows × 10 columns</p>\n",
       "</div>"
      ],
      "text/plain": [
       "     sad_spring_rain  sad_spring_rainx  sad_summer_rain  sad_summer_rainx  \\\n",
       "0               0.90               0.9             0.90              0.90   \n",
       "1               0.90               0.9             0.90              0.90   \n",
       "2               0.90               0.9             0.90              0.90   \n",
       "3               0.90               0.9             0.90              0.90   \n",
       "4               0.90               0.9             0.90              0.90   \n",
       "..               ...               ...              ...               ...   \n",
       "342             1.60               1.2             1.15              0.75   \n",
       "343             1.60               1.2             1.20              0.80   \n",
       "344             0.40               0.6            -0.10              0.10   \n",
       "345             0.95               1.1             0.85              1.00   \n",
       "346             0.95               1.1             0.85              1.00   \n",
       "\n",
       "     sad_fall_rain  sad_fall_rainx  sad_winter_rain  sad_winter_rainx  \\\n",
       "0             0.90            0.90             0.90               0.9   \n",
       "1             0.90            0.90             0.90               0.9   \n",
       "2             0.90            0.90             0.90               0.9   \n",
       "3             0.90            0.90             0.90               0.9   \n",
       "4             0.90            0.90             0.90               0.9   \n",
       "..             ...             ...              ...               ...   \n",
       "342           1.55            1.15             1.10               0.7   \n",
       "343           1.55            1.15             1.10               0.7   \n",
       "344           0.35            0.55            -0.10               0.1   \n",
       "345           0.90            1.05             0.45               0.6   \n",
       "346           0.90            1.05             0.45               0.6   \n",
       "\n",
       "     sad_winter_snow  sad_winter_snowx  \n",
       "0               0.90               0.9  \n",
       "1               0.90               0.9  \n",
       "2               0.90               0.9  \n",
       "3               0.90               0.9  \n",
       "4               0.90               0.9  \n",
       "..               ...               ...  \n",
       "342             1.10               0.7  \n",
       "343             1.10               0.7  \n",
       "344            -0.10               0.1  \n",
       "345             0.45               0.6  \n",
       "346             0.45               0.6  \n",
       "\n",
       "[347 rows x 10 columns]"
      ]
     },
     "execution_count": 49,
     "metadata": {},
     "output_type": "execute_result"
    }
   ],
   "source": [
    "df = pd.DataFrame((zip(sad_spring_rain, sad_spring_rainx, sad_summer_rain, sad_summer_rainx, sad_fall_rain, sad_fall_rainx, sad_winter_rain, sad_winter_rainx, sad_winter_snow, sad_winter_snowx)), columns = ['sad_spring_rain', 'sad_spring_rainx', 'sad_summer_rain', 'sad_summer_rainx', 'sad_fall_rain', 'sad_fall_rainx', 'sad_winter_rain', 'sad_winter_rainx', 'sad_winter_snow', 'sad_winter_snowx'])\n",
    "df"
   ]
  },
  {
   "cell_type": "code",
   "execution_count": 50,
   "id": "ea2e98d4",
   "metadata": {},
   "outputs": [],
   "source": [
    "df.to_csv('C:/dataset/sad_score.csv', encoding=\"utf-8-sig\", index = False)"
   ]
  },
  {
   "cell_type": "code",
   "execution_count": null,
   "id": "f24eab26",
   "metadata": {},
   "outputs": [],
   "source": []
  }
 ],
 "metadata": {
  "kernelspec": {
   "display_name": "Python 3.9.12 ('base')",
   "language": "python",
   "name": "python3"
  },
  "language_info": {
   "codemirror_mode": {
    "name": "ipython",
    "version": 3
   },
   "file_extension": ".py",
   "mimetype": "text/x-python",
   "name": "python",
   "nbconvert_exporter": "python",
   "pygments_lexer": "ipython3",
   "version": "3.9.12"
  },
  "vscode": {
   "interpreter": {
    "hash": "ad2bdc8ecc057115af97d19610ffacc2b4e99fae6737bb82f5d7fb13d2f2c186"
   }
  }
 },
 "nbformat": 4,
 "nbformat_minor": 5
}
